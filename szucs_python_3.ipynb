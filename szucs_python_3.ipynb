{
 "cells": [
  {
   "cell_type": "markdown",
   "metadata": {},
   "source": [
    "# Program flow: If .. elif .. else"
   ]
  },
  {
   "cell_type": "markdown",
   "metadata": {},
   "source": [
    "The if .. else structure enables you to select actions on particular conditions. \n",
    "\n",
    "This simplest structure is this: Your programme first evaluates TEST1 and if it is TRUE your programme will carry out Action-A:\n",
    "\n",
    "if TEST1 is true:      # there is a colon after the condition!\n",
    "    \n",
    "    Do action A     # this part MUST start after an indent (see later)\n",
    "    \n",
    "A bit more complicated structure is this: \n",
    "- Your programme first evaluates TEST1 and if it is TRUE your programme will carry out Action-A\n",
    "- Otherwise your programme will carry out Action-B\n",
    "\n",
    "if TEST1 is true:      # there is a colon after the condition!\n",
    "    \n",
    "    Do action-A     # this part MUST start after an indent (see later)\n",
    "\n",
    "else:                  # there is a colon after else!\n",
    "    \n",
    "    Do action-B     # this part MUST start after an indent (see later)\n",
    "    \n",
    "Let's try this:"
   ]
  },
  {
   "cell_type": "code",
   "execution_count": 55,
   "metadata": {},
   "outputs": [
    {
     "name": "stdout",
     "output_type": "stream",
     "text": [
      "Hurry, I want A LOT OF coffee.\n",
      "Mood assessment accomplished.\n"
     ]
    }
   ],
   "source": [
    "# Example 1\n",
    "MyStatus = 'tired'                              # we define the value of the MyStatus variable\n",
    "if MyStatus == 'tired':                         # here we test whether the value of the MyStatus variable is 'tired'\n",
    "    print('Hurry, I want A LOT OF coffee.')     # if the above condition is TRUE, we execute the action here\n",
    "print('Mood assessment accomplished.')"
   ]
  },
  {
   "cell_type": "markdown",
   "metadata": {},
   "source": [
    "Below we also add an alternative action after 'else'. This will run if the condition after 'if' is FALSE."
   ]
  },
  {
   "cell_type": "code",
   "execution_count": 56,
   "metadata": {},
   "outputs": [
    {
     "name": "stdout",
     "output_type": "stream",
     "text": [
      "Thanks, I have slept a lot and more coffee would just make me too productive. Colleagues would feel embarrased.\n",
      "Mood assessment accomplished.\n"
     ]
    }
   ],
   "source": [
    "# Example 2\n",
    "MyStatus = 'superfresh'\n",
    "if MyStatus == 'tired':\n",
    "    print('Hurry, I want A LOT OF coffee.')\n",
    "else:\n",
    "    print('Thanks, I have slept a lot and more coffee would just make me too productive. Colleagues would feel embarrased.')\n",
    "print('Mood assessment accomplished.')"
   ]
  },
  {
   "cell_type": "markdown",
   "metadata": {},
   "source": [
    "See what happens here:"
   ]
  },
  {
   "cell_type": "code",
   "execution_count": 57,
   "metadata": {},
   "outputs": [
    {
     "name": "stdout",
     "output_type": "stream",
     "text": [
      "Thanks, I have slept a lot and more coffee would just make me too productive. Colleagues would feel embarrased.\n",
      "Mood assessment accomplished.\n"
     ]
    }
   ],
   "source": [
    "# Example 2\n",
    "MyStatus = 'a bit tired' # this has changed!\n",
    "if MyStatus == 'tired':\n",
    "    print('Hurry, I want A LOT OF coffee.')\n",
    "else:\n",
    "    print('Thanks, I have slept a lot and more coffee would just make me too productive. Colleagues would feel embarrased.')\n",
    "print('Mood assessment accomplished.')    "
   ]
  },
  {
   "cell_type": "markdown",
   "metadata": {},
   "source": [
    "Above, your programme is not prepared to handle the case when the value of 'MyStatus' is \"a bit tired\". So, it may look like a good idea to add another test to see if the value of 'MyStatus' is \"a bit tired\". This can be done easily:"
   ]
  },
  {
   "cell_type": "code",
   "execution_count": 58,
   "metadata": {},
   "outputs": [
    {
     "name": "stdout",
     "output_type": "stream",
     "text": [
      "Thanks, I want a tiny bit of coffee.\n",
      "Mood assessment accomplished.\n"
     ]
    }
   ],
   "source": [
    "# Example 3\n",
    "MyStatus = 'a bit tired'\n",
    "if MyStatus == 'tired':\n",
    "    print('Hurry, I want A LOT OF coffee.')\n",
    "elif MyStatus == 'a bit tired':\n",
    "    print('Thanks, I want a tiny bit of coffee.')\n",
    "else:\n",
    "    print('Thanks, I have slept a lot and more coffee would just make me too productive. Colleagues would feel embarrased.')\n",
    "print('Mood assessment accomplished.')    "
   ]
  },
  {
   "cell_type": "markdown",
   "metadata": {},
   "source": [
    "As you see above, you can test for the TRUTH value of various conditons using 'elif'. In the above strucutre Python first evaluates whether the condition after the first 'if' is TRUE. If it is TRUE, it runs the instructions afterwards. If it is not TRUE, it evaluates the condition after the following 'elif'. If this condition is also FALSE, Python carries out the action after 'else'.\n",
    "\n",
    "So, the action after the final 'else' is a default action that runs if all above conditions are FALSE. Hence, this structure below makes even more sense:"
   ]
  },
  {
   "cell_type": "code",
   "execution_count": 59,
   "metadata": {},
   "outputs": [
    {
     "name": "stdout",
     "output_type": "stream",
     "text": [
      "I do not know what you are talking about.\n",
      "Mood assessment accomplished.\n"
     ]
    }
   ],
   "source": [
    "# Example 4\n",
    "MyStatus = 'I feel a bit down but nevertheless I believe I am 60% OK'\n",
    "if MyStatus == 'tired':\n",
    "    print('Hurry, I want A LOT OF coffee.')\n",
    "elif MyStatus == 'a bit tired':\n",
    "    print('Thanks, I want a tiny bit of coffee.')\n",
    "elif MyStatus == 'superfresh':\n",
    "    print('Thanks, I have slept a lot and more coffee would just make me too productive. Colleagues would feel embarrased.')\n",
    "else:\n",
    "    print('I do not know what you are talking about.') # this default action runs if all above conditions are FALSE\n",
    "print('Mood assessment accomplished.')"
   ]
  },
  {
   "cell_type": "markdown",
   "metadata": {},
   "source": [
    "Below is an example using the numerical variable 'a'. Notice that the code blocks after if, elif and else run till the next 'elif' or till the end of the whole 'if' block.\n",
    "\n",
    "After we reach the end of the 'if' block, programme execution will run further with: print('Huh, we are done with evaluating a.')\n",
    "\n",
    "The comments point to important syntactical features: colons and indenting.\n",
    "\n",
    "Colons: You must put a colon after formulating each condition.\n",
    "\n",
    "Indenting: Indenting is very important in Python and it is PART of SYNTAX! Indenting visually groups code blocks for the programer and also tells Python which code lines belong to the same code block. Hence, you MUST use consistent indenting throughout your code."
   ]
  },
  {
   "cell_type": "code",
   "execution_count": 60,
   "metadata": {},
   "outputs": [
    {
     "name": "stdout",
     "output_type": "stream",
     "text": [
      "1.1\n",
      "a was just so so so so soooo unbelievably tiny!!! I had to add 1 to it!\n",
      "Huh, we are done with evaluating a.\n"
     ]
    }
   ],
   "source": [
    "a = 0.1\n",
    "if a < 1:            # notice the colon (:) here!\n",
    "    a = a + 1        # this part starts a bit to the right relative to the if statement (indenting)\n",
    "    print(a)\n",
    "    print('a was just so so so so soooo unbelievably tiny!!! I had to add 1 to it!')\n",
    "elif a > 1:         # notice the colon (:) here!\n",
    "    a = -100 * a    # this part starts a bit to the right relative to the if statement\n",
    "    print(a)\n",
    "    print('a was just so so so so soooo unbelievably large!! I had to make it very very small!')\n",
    "else:               # notice the colon (:) here!\n",
    "    print(a)        # this part starts a bit to the right relative to the if statement\n",
    "    print('a cannot be 1!!')\n",
    "print('Huh, we are done with evaluating a.') # this is after the 'if' block"
   ]
  },
  {
   "cell_type": "markdown",
   "metadata": {},
   "source": [
    "# Loops: for .. in:"
   ]
  },
  {
   "cell_type": "markdown",
   "metadata": {},
   "source": [
    "Loops enable you to run actions repeatedly. This is useful because, for example, if you want to executie the same code 100 times you do not have to type or copy/paste the code 100 times. Typing and copy/pasting is not only tiring and boring but it is also very error prone. \n",
    "\n",
    "Below is an example for a loop. \n",
    "\n",
    "First, we define a List type variable called 'Series'. The loop starts with the 'for' keyword. \n",
    "\n",
    "The 'for Number in Series:' syntax means that the variable 'Number' will take successive values of the 'Series' variable each time the loop runs. You could also think about the loop syntax as expressing the followng: 'for each value [Number] in the [Series] variable do something...'. Note that after the for .. in structure you have a colon (:). The body of the loop comes after this colon. The instructions in the body should be indendented. This indentation expresses that all instructions belong to the same code block as explained above. This code block will be executed each time the loop runs (this is what the loop 'does').\n",
    "\n",
    "So, when the below loop runs for the first time, the value of 'Number' will be 5 because this is the first value of 'Series'. The loop body has a single instruction: print(Number). Hence, 5 will be printed on the screen. There are no more instructions in the loop body, so the code execution returns to the 'for' keyword.\n",
    "\n",
    "The second time the loop runs the value of 'Number' will be 3 because this is the second value of 'Series'. The loop body prints the value of 'Number'. Code execution again returns to the 'for' keyword.\n",
    "\n",
    "The third time the loop runs the value of 'Number' will be 1 because this is the third value of 'Series'. ..... and so on...\n",
    "\n",
    "After there are no more values of 'Series' left, code execution will contine at the next indentation level to the left."
   ]
  },
  {
   "cell_type": "code",
   "execution_count": 61,
   "metadata": {
    "scrolled": true
   },
   "outputs": [
    {
     "name": "stdout",
     "output_type": "stream",
     "text": [
      "I present you the NUMBER  5 !!!\n",
      "I present you the NUMBER  3 !!!\n",
      "I present you the NUMBER  1 !!!\n",
      "I present you the NUMBER  2 !!!\n",
      "I present you the NUMBER  4 !!!\n",
      "Sadly, we are done counting.\n"
     ]
    }
   ],
   "source": [
    "Series = [5, 3, 1, 2, 4]\n",
    "for Number in Series:\n",
    "    print('I present you the NUMBER ', Number, '!!!')\n",
    "print('Sadly, we are done counting.')"
   ]
  },
  {
   "cell_type": "markdown",
   "metadata": {},
   "source": [
    "Below is another example that uses a loop to add the first 100 numbers"
   ]
  },
  {
   "cell_type": "code",
   "execution_count": 62,
   "metadata": {},
   "outputs": [
    {
     "name": "stdout",
     "output_type": "stream",
     "text": [
      "5050\n"
     ]
    }
   ],
   "source": [
    "Series = range(1,101)  # remember, here we create a range of numbers: 1, 2, 3, ...., 99, 100 [101: not included in range]\n",
    "Sum    = 0\n",
    "for Number in Series:\n",
    "    Sum = Sum + Number\n",
    "print(Sum)"
   ]
  },
  {
   "cell_type": "markdown",
   "metadata": {},
   "source": [
    "Of, course, 'in real life' you can just use Python's built-in 'sum' function for the above purpose but the goal was to illustrate how a loop works. In general, before you use loops for computations you should always consider whether using them is really neecessary, or you have an existing function that can solve your problem without using a loop."
   ]
  },
  {
   "cell_type": "code",
   "execution_count": 63,
   "metadata": {},
   "outputs": [
    {
     "data": {
      "text/plain": [
       "5050"
      ]
     },
     "execution_count": 63,
     "metadata": {},
     "output_type": "execute_result"
    }
   ],
   "source": [
    "sum(range(1,101))"
   ]
  },
  {
   "cell_type": "markdown",
   "metadata": {},
   "source": [
    "# Function definitions"
   ]
  },
  {
   "cell_type": "markdown",
   "metadata": {},
   "source": [
    "Functions take some input parameters and produce some output parameters. \n",
    "\n",
    "Below is a function that can determine whether you want coffee. \n",
    "\n",
    "The function is defined by the 'def' keyword. This is followed by the name of the function and the input parameters.\n",
    "\n",
    "The input parameter is the variable 'MyStatus' - this takes of the value of 'your mood'.\n",
    "\n",
    "The function body runs computations considering the value of your input parameter and after its code is executed it will produce output parameters. \n",
    "\n",
    "Output parameters are indicated after the 'return' keyword.\n",
    "\n",
    "Functions use the typical Python indentation rules.\n",
    "\n",
    "Here we define the function:"
   ]
  },
  {
   "cell_type": "code",
   "execution_count": 64,
   "metadata": {},
   "outputs": [],
   "source": [
    "def Determine_Coffee_Response(MyStatus):\n",
    "    # This function will determine your coffee response so that you don't have to\n",
    "    # Input parameter: MyStatus: Your current status.\n",
    "    \n",
    "    if MyStatus == 'tired':\n",
    "        Response = 'Hurry, I want A LOT OF coffee.'\n",
    "    elif MyStatus == 'a bit tired':\n",
    "        Response = 'Thanks, I want a tiny bit of coffee.'\n",
    "    elif MyStatus == 'superfresh':\n",
    "        Response = 'Thanks, I have slept a lot and more coffee would just make me too productive.'\n",
    "    else:\n",
    "        Response = 'I do not know what you are talking about.'\n",
    "    \n",
    "    return Response\n"
   ]
  },
  {
   "cell_type": "markdown",
   "metadata": {},
   "source": [
    "Below we 'call' or 'invoke' the function. Functions must be defined before you can call them.\n",
    "\n",
    "First, we give value to the input parameter, 'MyStatus'.\n",
    "Then we call the funciton with that input parameter."
   ]
  },
  {
   "cell_type": "code",
   "execution_count": 65,
   "metadata": {},
   "outputs": [
    {
     "name": "stdout",
     "output_type": "stream",
     "text": [
      "I do not know what you are talking about.\n"
     ]
    }
   ],
   "source": [
    "# define input parameter:\n",
    "MyStatus = 'hmmmm, not sure'\n",
    "\n",
    "# call the function with the input parameter\n",
    "# The variable 'CofResp' will take the output of the function\n",
    "CofResp = Determine_Coffee_Response(MyStatus)\n",
    "print(CofResp)"
   ]
  },
  {
   "cell_type": "markdown",
   "metadata": {},
   "source": [
    "Here we call the function with a different input parameter."
   ]
  },
  {
   "cell_type": "code",
   "execution_count": 66,
   "metadata": {},
   "outputs": [
    {
     "name": "stdout",
     "output_type": "stream",
     "text": [
      "Hurry, I want A LOT OF coffee.\n"
     ]
    }
   ],
   "source": [
    "# define a new input parameter:\n",
    "MyNEWStatus = 'tired'\n",
    "\n",
    "# call the function with the input parameter\n",
    "# The variable 'CofResp' will take the output of the function\n",
    "CofResp = Determine_Coffee_Response(MyNEWStatus)\n",
    "print(CofResp)"
   ]
  },
  {
   "cell_type": "markdown",
   "metadata": {},
   "source": [
    "You can use the 'input' function to ask the user to enter text and assign the entered text to a variable. So, you now have your first AI program able to determine whether you want more coffee."
   ]
  },
  {
   "cell_type": "code",
   "execution_count": 74,
   "metadata": {},
   "outputs": [
    {
     "name": "stdout",
     "output_type": "stream",
     "text": [
      "Tell me about your mood and press ENTER.a bit tired\n",
      "Thanks, I want a tiny bit of coffee.\n"
     ]
    }
   ],
   "source": [
    "MyNEWStatus = input(\"Tell me about your mood and press ENTER.\")\n",
    "CofResp = Determine_Coffee_Response(MyNEWStatus)\n",
    "print(CofResp)"
   ]
  },
  {
   "cell_type": "markdown",
   "metadata": {},
   "source": [
    "**Now use the MENU: -- CELL -- RUN ALL BELOW -- to run the remaining part of this script.**"
   ]
  },
  {
   "cell_type": "markdown",
   "metadata": {},
   "source": [
    "# Plotting"
   ]
  },
  {
   "cell_type": "markdown",
   "metadata": {},
   "source": [
    "Plotting is a huge topic and you will learn about it as you plot more and more figures. You can endlessly customize images in Python and you can make them publication ready. For plotting try the libraries 'Pandas', 'Matplotlib' and 'Seaborn'.\n",
    "\n",
    "https://matplotlib.org/\n",
    "\n",
    "https://seaborn.pydata.org/\n",
    "\n",
    "https://matplotlib.org/3.3.1/tutorials/introductory/pyplot.html#sphx-glr-tutorials-introductory-pyplot-py\n",
    "\n",
    "You will also find lots of examples here:\n",
    "\n",
    "https://pandas.pydata.org/docs/user_guide/visualization.html"
   ]
  },
  {
   "cell_type": "markdown",
   "metadata": {},
   "source": [
    "Here are some simple examples.\n",
    "\n",
    "First, we plot a simple line plot.\n",
    "\n",
    "We define two variables, x and y. Then we use the 'plot' function to plot the x coordinates against the y coordinates. By default, plot will connect all points with a line."
   ]
  },
  {
   "cell_type": "code",
   "execution_count": 79,
   "metadata": {
    "scrolled": true
   },
   "outputs": [
    {
     "data": {
      "text/plain": [
       "Text(0.5, 1.0, 'My data')"
      ]
     },
     "execution_count": 79,
     "metadata": {},
     "output_type": "execute_result"
    },
    {
     "data": {
      "image/png": "[encoded data removed]",
      "text/plain": [
       "<Figure size 432x288 with 1 Axes>"
      ]
     },
     "metadata": {
      "needs_background": "light"
     },
     "output_type": "display_data"
    }
   ],
   "source": [
    "import matplotlib.pyplot as plt # we import the pyplot module of the matplotlib library under the alias 'plt'\n",
    "x = [1, 2, 3, 4]\n",
    "y = [1, 8, 27, 64] # remember, this is a list comprehension\n",
    "plt.plot(x, y)\n",
    "plt.xlabel('X label here') # add label to X axis\n",
    "plt.ylabel('Y label here') # add label to Y axis\n",
    "plt.title('My data') # add title to panel"
   ]
  },
  {
   "cell_type": "markdown",
   "metadata": {},
   "source": [
    "You can easily add a marker to your plot and control the size of the markers. See: https://matplotlib.org/3.3.1/api/markers_api.html"
   ]
  },
  {
   "cell_type": "code",
   "execution_count": 69,
   "metadata": {},
   "outputs": [
    {
     "data": {
      "text/plain": [
       "Text(0.5, 1.0, 'My data')"
      ]
     },
     "execution_count": 69,
     "metadata": {},
     "output_type": "execute_result"
    },
    {
     "data": {
      "image/png": "[encoded data removed]",
      "text/plain": [
       "<Figure size 432x288 with 1 Axes>"
      ]
     },
     "metadata": {
      "needs_background": "light"
     },
     "output_type": "display_data"
    }
   ],
   "source": [
    "x = [1, 2, 3, 4]\n",
    "y = [1, 8, 27, 64] \n",
    "plt.plot(x, y, marker = 'v', markersize=10)\n",
    "plt.title('My data') # add title to panel"
   ]
  },
  {
   "cell_type": "markdown",
   "metadata": {},
   "source": [
    "Here we get rid of the connecting line by using the 'linestyle' parameter."
   ]
  },
  {
   "cell_type": "code",
   "execution_count": 70,
   "metadata": {},
   "outputs": [
    {
     "data": {
      "text/plain": [
       "Text(0.5, 1.0, 'My data')"
      ]
     },
     "execution_count": 70,
     "metadata": {},
     "output_type": "execute_result"
    },
    {
     "data": {
      "image/png": "[encoded data removed]",
      "text/plain": [
       "<Figure size 432x288 with 1 Axes>"
      ]
     },
     "metadata": {
      "needs_background": "light"
     },
     "output_type": "display_data"
    }
   ],
   "source": [
    "x = [1, 2, 3, 4]\n",
    "y = [1, 8, 27, 64] # remember, this is a list comprehension\n",
    "plt.plot(x, y, linestyle='None', marker = 'v', markersize=10)\n",
    "plt.title('My data') # add title to panel"
   ]
  },
  {
   "cell_type": "markdown",
   "metadata": {},
   "source": [
    "## Subplots"
   ]
  },
  {
   "cell_type": "markdown",
   "metadata": {},
   "source": [
    "Finally, we plot a plot consisting of multiple charts. Figures are organized in rectangular space. By using 'subplot' you can define the structure of the rectangular space you are plotting by giving the number of rows and columns the figure has. Subplots are numbered from left to right, top to bottom. \n",
    "\n",
    "The subplot function has 3 parameters: \n",
    "subplot( Number of rows in space, Number of columns in space, The number of the subplot being used )\n",
    "\n",
    "For example, subplot(2, 3, 2) means that the figure space has 2 rows, 3 columns and we are drawing on the 2nd subplot.\n",
    "\n",
    "Below you see how subplots are numbered if we have a 2 rows by 3 columns figure.\n",
    "\n",
    "This figure below is just to illustrate how subplots look like. You do  not fully have to understand the code that produces it. However, it is a good optional excercise.\n",
    "\n",
    "The code uses a for loop for example. The code also uses a so-called 'formatted string', a string starting with 'f' to write text. You can look up more on these here under 'Formatted string literals': https://docs.python.org/3/tutorial/inputoutput.html"
   ]
  },
  {
   "cell_type": "code",
   "execution_count": 71,
   "metadata": {},
   "outputs": [
    {
     "name": "stdout",
     "output_type": "stream",
     "text": [
      "Plotting subplot  1\n",
      "Plotting subplot  2\n",
      "Plotting subplot  3\n",
      "Plotting subplot  4\n",
      "Plotting subplot  5\n",
      "Plotting subplot  6\n"
     ]
    },
    {
     "data": {
      "image/png": "[encoded data removed]",
      "text/plain": [
       "<Figure size 864x576 with 6 Axes>"
      ]
     },
     "metadata": {
      "needs_background": "light"
     },
     "output_type": "display_data"
    }
   ],
   "source": [
    "plt.figure(figsize=(12, 8)) # define figure and define its size in inches\n",
    "\n",
    "tx = 0.35; ty = 0.5          # define in which figure position we want to plot text\n",
    "\n",
    "for i in range(1,7):\n",
    "    print('Plotting subplot ', i) # just for information\n",
    "    plt.subplot(2,3,i)            # define subplot space: 2 rows x 3 columns, define actually used subplot (variable i)\n",
    "    plt.text(tx,ty, f'subplot {i}', fontsize=12) # using formatted string (f-string) to write text"
   ]
  },
  {
   "cell_type": "markdown",
   "metadata": {},
   "source": [
    "And here is an example plot with multiple plots types."
   ]
  },
  {
   "cell_type": "code",
   "execution_count": 84,
   "metadata": {},
   "outputs": [
    {
     "data": {
      "image/png": "[encoded data removed]",
      "text/plain": [
       "<Figure size 1440x720 with 3 Axes>"
      ]
     },
     "metadata": {
      "needs_background": "light"
     },
     "output_type": "display_data"
    }
   ],
   "source": [
    "names  = ['group_1', 'group_2', 'group_3', 'group_4']\n",
    "values = [1, 5, 20, 12]\n",
    "\n",
    "plt.figure(figsize=(20, 10)) # define figure and define its size in inches\n",
    "\n",
    "plt.subplot(231)           # figure space is 2 rows x 3 columns (ie. 2x3=6 subplots), use subplot 1\n",
    "plt.bar(names, values)     # bar plot\n",
    "plt.xlabel('Groups')\n",
    "plt.ylabel('Units')\n",
    "plt.title('A.')            # add title for figure subpanel\n",
    "plt.subplot(132)           # figure space is 1 row  x 3 columns (ie. 1x3=3 subplots), use subplot 2\n",
    "plt.scatter(names, values) # scatter plot\n",
    "plt.xlabel('Groups')\n",
    "plt.ylabel('Units')\n",
    "plt.title('B.')\n",
    "plt.subplot(236)           # figure space is 2 rows x 3 columns (ie. 2x3=6 subplots), use subplot 6\n",
    "plt.plot(names, values)    # line plot\n",
    "plt.xlabel('Groups')\n",
    "plt.ylabel('Units')\n",
    "plt.title('C.')\n",
    "plt.suptitle('Wonderful figure') # add overall figure title\n",
    "plt.show()"
   ]
  }
 ],
 "metadata": {
  "kernelspec": {
   "display_name": "Python 3",
   "language": "python",
   "name": "python3"
  },
  "language_info": {
   "codemirror_mode": {
    "name": "ipython",
    "version": 3
   },
   "file_extension": ".py",
   "mimetype": "text/x-python",
   "name": "python",
   "nbconvert_exporter": "python",
   "pygments_lexer": "ipython3",
   "version": "3.7.9"
  }
 },
 "nbformat": 4,
 "nbformat_minor": 4
}
