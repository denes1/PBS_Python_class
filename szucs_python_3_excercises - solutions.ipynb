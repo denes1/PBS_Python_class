{
 "cells": [
  {
   "cell_type": "markdown",
   "metadata": {},
   "source": [
    "# Excercises to Session 3"
   ]
  },
  {
   "cell_type": "markdown",
   "metadata": {},
   "source": [
    "# 1. "
   ]
  },
  {
   "cell_type": "markdown",
   "metadata": {},
   "source": [
    "Write an if .. else structure that prints 'a is small' if variable a is smaller than 1; \n",
    "\n",
    "prints 'a is large' if variable a is large than 1; and \n",
    "\n",
    "prints 'a is 1' if a equals 1.\n",
    "\n",
    "Let a be 2."
   ]
  },
  {
   "cell_type": "code",
   "execution_count": null,
   "metadata": {},
   "outputs": [],
   "source": [
    "a = 1\n",
    "if a < 1:\n",
    "    print('a is small.')\n",
    "elif a > 1:\n",
    "    print('a is large.')\n",
    "else:\n",
    "    print('a is 1.')\n"
   ]
  },
  {
   "cell_type": "markdown",
   "metadata": {},
   "source": [
    "# 2."
   ]
  },
  {
   "cell_type": "markdown",
   "metadata": {},
   "source": [
    "Write a loop that displays numbers from 10 to 1 in steps of -1 on the screen saying 'The current value of the loop variable is X' where X is the current value of the loop variable."
   ]
  },
  {
   "cell_type": "code",
   "execution_count": null,
   "metadata": {},
   "outputs": [],
   "source": [
    "for i in range(10,0,-1):\n",
    "    print('The current value of the loop variable is ',i)"
   ]
  },
  {
   "cell_type": "markdown",
   "metadata": {},
   "source": [
    "# 3."
   ]
  },
  {
   "cell_type": "markdown",
   "metadata": {},
   "source": [
    "Write a function that adds or subtracts two numbers (A and B) depending on the value of the 'Task' variable. The function should have three input parameters, Task, A and B. If neither addition nor subtraction is specified than the response should be 'computer says no'.  Let A be 3 and B be 4. Try various values of 'Task'."
   ]
  },
  {
   "cell_type": "code",
   "execution_count": null,
   "metadata": {},
   "outputs": [],
   "source": [
    "def CalculatingRobot(Task, A, B):\n",
    "    \n",
    "    if Task == 'add':\n",
    "        R = A+B\n",
    "    elif Task == 'subtract':\n",
    "        R = A-B\n",
    "    else: \n",
    "        R = 'Computer says no.'\n",
    "    return R"
   ]
  },
  {
   "cell_type": "code",
   "execution_count": null,
   "metadata": {},
   "outputs": [],
   "source": [
    "CalculatingRobot('not sure', 3 ,4) # example call to the function"
   ]
  },
  {
   "cell_type": "markdown",
   "metadata": {},
   "source": [
    "# 4."
   ]
  },
  {
   "cell_type": "markdown",
   "metadata": {},
   "source": [
    "With regards to the above function query the user about whether the user wants to add or subtract by using 'input'. Use this value to call the function."
   ]
  },
  {
   "cell_type": "code",
   "execution_count": null,
   "metadata": {
    "scrolled": true
   },
   "outputs": [],
   "source": [
    "A = 3\n",
    "B = 4\n",
    "Task = input(\"Should I add or subtract?\")\n",
    "CalculatingRobot(Task, A, B)"
   ]
  },
  {
   "cell_type": "markdown",
   "metadata": {},
   "source": [
    "# 5."
   ]
  },
  {
   "cell_type": "code",
   "execution_count": null,
   "metadata": {},
   "outputs": [],
   "source": []
  },
  {
   "cell_type": "markdown",
   "metadata": {},
   "source": [
    "Create this series in variable 'data': [1 2 3 4 5 6]\n",
    "\n",
    "And define Group Names in variable 'GroupNames': G1, G2, G3, G4, G5 and G6."
   ]
  },
  {
   "cell_type": "code",
   "execution_count": null,
   "metadata": {},
   "outputs": [],
   "source": [
    "data = [1, 2, 3, 4, 5, 6]\n",
    "GroupNames = ['G1','G2','G3','G4','G5','G6']"
   ]
  },
  {
   "cell_type": "markdown",
   "metadata": {},
   "source": [
    "Check the data types of data and GroupNames"
   ]
  },
  {
   "cell_type": "code",
   "execution_count": null,
   "metadata": {},
   "outputs": [],
   "source": [
    "type(data)"
   ]
  },
  {
   "cell_type": "code",
   "execution_count": null,
   "metadata": {},
   "outputs": [],
   "source": [
    "type(GroupNames)"
   ]
  },
  {
   "cell_type": "markdown",
   "metadata": {},
   "source": [
    "Display the numbers as a line plot on subplot(221). Use diamond markers.\n",
    "\n",
    "Dispay the numbers as a bar plot on subplot(122)\n",
    "\n",
    "Add X and Y labels to both subplots.\n",
    "\n",
    "Add subplot titles 'A.' and 'B.'"
   ]
  },
  {
   "cell_type": "code",
   "execution_count": null,
   "metadata": {},
   "outputs": [],
   "source": [
    "import matplotlib.pyplot as plt\n",
    "\n",
    "plt.figure(figsize=(10, 8))    # can be omitted, controls size of figure\n",
    "\n",
    "plt.subplot(221)\n",
    "plt.plot(GroupNames, data, marker = 'D')\n",
    "plt.xlabel('Groups')\n",
    "plt.ylabel('Units')\n",
    "plt.title('A.') \n",
    "\n",
    "plt.subplot(122)\n",
    "plt.bar(GroupNames ,data)\n",
    "plt.xlabel('Groups')\n",
    "plt.ylabel('Units')\n",
    "plt.title('B.') \n",
    "\n",
    "# plt.show()                    # can be omitted in Jupyter"
   ]
  }
 ],
 "metadata": {
  "kernelspec": {
   "display_name": "Python 3",
   "language": "python",
   "name": "python3"
  },
  "language_info": {
   "codemirror_mode": {
    "name": "ipython",
    "version": 3
   },
   "file_extension": ".py",
   "mimetype": "text/x-python",
   "name": "python",
   "nbconvert_exporter": "python",
   "pygments_lexer": "ipython3",
   "version": "3.7.9"
  }
 },
 "nbformat": 4,
 "nbformat_minor": 4
}
